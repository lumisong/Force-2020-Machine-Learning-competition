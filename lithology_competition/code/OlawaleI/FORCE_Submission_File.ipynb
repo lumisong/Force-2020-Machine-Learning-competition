{
  "cells": [
    {
      "cell_type": "code",
      "execution_count": 1,
      "metadata": {
        "id": "U4wK_1Sp5oZz"
      },
      "outputs": [],
      "source": [
        "import pandas as pd\n",
        "import numpy as np\n",
        "import numpy.random as nr\n",
        "import matplotlib\n",
        "import xgboost as xgb\n",
        "import matplotlib.pyplot as plt\n",
        "import sklearn\n",
        "from sklearn.linear_model import LogisticRegression\n",
        "from xgboost import XGBClassifier\n",
        "from sklearn import preprocessing\n",
        "import sklearn.model_selection as ms\n",
        "from sklearn.model_selection import StratifiedKFold\n",
        "from sklearn.metrics import accuracy_score, f1_score"
      ]
    },
    {
      "cell_type": "code",
      "execution_count": 2,
      "metadata": {},
      "outputs": [
        {
          "name": "stdout",
          "output_type": "stream",
          "text": [
            "pandas version is: 2.1.4\n",
            "numpy version is: 1.26.4\n",
            "matplotlib version is: 3.8.0\n",
            "sklearn version is: 1.4.1.post1\n",
            "xgboost version is: 2.0.3\n"
          ]
        }
      ],
      "source": [
        "print(f'pandas version is: {pd.__version__}')\n",
        "print(f'numpy version is: {np.__version__}')\n",
        "print(f'matplotlib version is: {matplotlib.__version__}')\n",
        "print(f'sklearn version is: {sklearn.__version__}')\n",
        "print(f'xgboost version is: {xgb.__version__}')"
      ]
    },
    {
      "cell_type": "markdown",
      "metadata": {},
      "source": [
        "源代码版本\n",
        "\n",
        "```text\n",
        "pandas version is: 1.1.2\n",
        "numpy version is: 1.18.5\n",
        "matplotlib version is: 3.2.2\n",
        "sklearn version is: 0.22.2.post1\n",
        "xgboost version is: 0.90\n",
        "```"
      ]
    },
    {
      "cell_type": "code",
      "execution_count": 3,
      "metadata": {
        "id": "Z1HHu00J6gBZ"
      },
      "outputs": [],
      "source": [
        "#all helper functions used\n",
        "\n",
        "def drop_columns(data, *args):\n",
        "    '''\n",
        "    function used to drop columns.\n",
        "    args:: \n",
        "      data:  dataframe to be operated on\n",
        "      *args: a list of columns to be dropped from the dataframe\n",
        "\n",
        "    return: returns a dataframe with the columns dropped\n",
        "    '''\n",
        "    \n",
        "    # columns = []\n",
        "    # for _ in args:\n",
        "    #     columns.append(_)\n",
        "        \n",
        "    columns = list(args)\n",
        "        \n",
        "    data = data.drop(columns, axis=1)\n",
        "        \n",
        "    return data\n",
        "\n",
        "def process(data):\n",
        "\n",
        "    '''\n",
        "    function to process dataframe by replacing missing, infinity values with -999\n",
        "\n",
        "    args:: \n",
        "      data:  dataframe to be operated on\n",
        "    \n",
        "    returns dataframe with replaced values\n",
        "    '''\n",
        "    \n",
        "    cols = list(data.columns)\n",
        "    for _ in cols:\n",
        "\n",
        "        data[_] = np.where(data[_] == np.inf, -999, data[_])\n",
        "        data[_] = np.where(data[_] == np.nan, -999, data[_])\n",
        "        data[_] = np.where(data[_] == -np.inf, -999, data[_])\n",
        "        \n",
        "    return data\n",
        " \n",
        "def show_evaluation(pred, true):\n",
        "\n",
        "  '''\n",
        "\n",
        "  function to show model performance and evaluation\n",
        "  args:\n",
        "    pred: predicted value(a list)\n",
        "    true: actual values (a list)\n",
        "\n",
        "  prints the custom metric performance, accuracy and F1 score of predictions\n",
        "\n",
        "  '''\n",
        "\n",
        "  print(f'Default score: {score(true.values, pred)}')\n",
        "  print(f'Accuracy is: {accuracy_score(true, pred)}')\n",
        "  print(f'F1 is: {f1_score(pred, true.values, average=\"weighted\")}')\n",
        "\n",
        "#Paulo Bestagini's feature augmentation technique from SEG 2016 ML competition\n",
        "#Link : https://github.com/seg/2016-ml-contest/tree/master/ispl\n",
        "\n",
        "# Feature windows concatenation function\n",
        "def augment_features_window(X, N_neig):\n",
        "    \n",
        "    # Parameters\n",
        "    N_row = X.shape[0]\n",
        "    N_feat = X.shape[1]\n",
        " \n",
        "    # Zero padding\n",
        "    X = np.vstack((np.zeros((N_neig, N_feat)), X, (np.zeros((N_neig, N_feat)))))\n",
        " \n",
        "    # Loop over windows\n",
        "    X_aug = np.zeros((N_row, N_feat*(2*N_neig+1)))\n",
        "    for r in np.arange(N_row)+N_neig:\n",
        "        this_row = []\n",
        "        for c in np.arange(-N_neig,N_neig+1):\n",
        "            this_row = np.hstack((this_row, X[r+c]))\n",
        "        X_aug[r-N_neig] = this_row\n",
        " \n",
        "    return X_aug\n",
        " \n",
        "# Feature gradient computation function\n",
        "def augment_features_gradient(X, depth):\n",
        "    \n",
        "    # Compute features gradient\n",
        "    d_diff = np.diff(depth).reshape((-1, 1))\n",
        "    d_diff[d_diff==0] = 0.001\n",
        "    X_diff = np.diff(X, axis=0)\n",
        "    X_grad = X_diff / d_diff\n",
        "        \n",
        "    # Compensate for last missing value\n",
        "    X_grad = np.concatenate((X_grad, np.zeros((1, X_grad.shape[1]))))\n",
        "    \n",
        "    return X_grad\n",
        " \n",
        "# Feature augmentation function\n",
        "def augment_features(X, well, depth, N_neig=1):\n",
        "    \n",
        "    # Augment features\n",
        "    X_aug = np.zeros((X.shape[0], X.shape[1]*(N_neig*2+2)))\n",
        "    for w in np.unique(well):\n",
        "        w_idx = np.where(well == w)[0]\n",
        "        X_aug_win = augment_features_window(X[w_idx, :], N_neig)\n",
        "        X_aug_grad = augment_features_gradient(X[w_idx, :], depth[w_idx])\n",
        "        X_aug[w_idx, :] = np.concatenate((X_aug_win, X_aug_grad), axis=1)\n",
        "    \n",
        "    # Find padded rows\n",
        "    padded_rows = np.unique(np.where(X_aug[:, 0:7] == np.zeros((1, 7)))[0])\n",
        "    \n",
        "    return X_aug, padded_rows\n",
        "\n",
        "def score(y_true, y_pred):\n",
        "\n",
        "    '''\n",
        "    custom metric used for evaluation\n",
        "    args:\n",
        "      y_true: actual prediction\n",
        "      y_pred: predictions made\n",
        "    '''\n",
        "    \n",
        "    A = np.load('penalty_matrix.npy')\n",
        "    S = 0.0\n",
        "    y_true = y_true.astype(int)\n",
        "    y_pred = y_pred.astype(int)\n",
        "    for i in range(0, y_true.shape[0]):\n",
        "        S -= A[y_true[i], y_pred[i]]\n",
        "    return S/y_true.shape[0]\n"
      ]
    },
    {
      "cell_type": "code",
      "execution_count": 4,
      "metadata": {},
      "outputs": [],
      "source": [
        "# 修改工作路径\n",
        "PWD = '../../data/'"
      ]
    },
    {
      "cell_type": "code",
      "execution_count": 14,
      "metadata": {
        "id": "1cLS1yO56iT_"
      },
      "outputs": [],
      "source": [
        "#importing penaltry matrix used for evaluation and train and test files\n",
        "A = np.load(f'{PWD}penalty_matrix.npy')\n",
        "\n",
        "train = pd.read_csv(f'{PWD}train.csv', sep=';')\n",
        "\n",
        "test = pd.read_csv(f'{PWD}test.csv', sep=';')"
      ]
    },
    {
      "cell_type": "markdown",
      "metadata": {},
      "source": [
        "## preprocess 方法\n",
        "\n",
        "`preprocess`方法是`Model`类中的一个关键方法，它负责准备训练和测试数据集以进行模型训练和预测。以下是`preprocess`方法的分析：\n"
      ]
    },
    {
      "cell_type": "markdown",
      "metadata": {},
      "source": [
        "\n",
        "###  方法定义\n",
        "```python\n",
        "def preprocess(self, train, test):\n",
        "    '''\n",
        "    准备数据集以进行训练和预测\n",
        "    接受训练和测试数据框作为参数\n",
        "\n",
        "    返回准备好的训练和测试数据集以及岩石标签和数字，这些是准备提交文件所必需的\n",
        "    '''\n",
        "    # ... (省略了方法体)\n",
        "```\n",
        "\n",
        "###  方法作用\n",
        "-  合并训练和测试数据集，以便于统一处理。\n",
        "-  将岩石标签映射到序数值，以便于模型处理。\n",
        "-  实现Bestagini的增强过程，这可能是一种特殊的数据增强技术。\n",
        "-  删除不需要的列。\n",
        "-  对特定的特征进行标签编码，以提高模型性能。\n",
        "-  将合并后的数据集分割为训练和测试数据集。\n",
        "-  对数据进行进一步的预处理，包括填充缺失值和其他可能的转换。\n",
        "-  对训练数据进行增强，以增加模型的泛化能力。\n",
        "-  返回预处理后的训练和测试数据集，以及岩石标签和数字。\n",
        "\n",
        "###  方法步骤\n",
        "1. **合并训练和测试数据集**：\n",
        "   ```python\n",
        "   ntrain = train.shape[0]\n",
        "   ntest = test.shape[0]\n",
        "   target = train.FORCE_2020_LITHOFACIES_LITHOLOGY.copy()\n",
        "   df = pd.concat((train, test)).reset_index(drop=True)\n",
        "   ```\n",
        "   这一步将训练数据集和测试数据集合并，以便于统一处理。\n",
        "\n",
        "2. **映射岩石标签**：\n",
        "   ```python\n",
        "   lithology = train['FORCE_2020_LITHOFACIES_LITHOLOGY']\n",
        "   lithology_numbers = {30000:  0,  65030:  1,  65000:  2,  80000:  3,  74000:  4,  70000:  5,  70032:  6,  88000:  7,  86000:  8,  99000:  9,  90000:  10,  93000:  11}\n",
        "   lithology1 = lithology.map(lithology_numbers)\n",
        "   ```\n",
        "   这一步将岩石标签映射到序数值，以便于模型处理。\n",
        "\n",
        "3. **实现增强过程**：\n",
        "   ```python\n",
        "   train_well = train.WELL.values\n",
        "   train_depth = train.DEPTH_MD.values\n",
        "   test_well = test.WELL.values\n",
        "   test_depth = test.DEPTH_MD.values\n",
        "   ```\n",
        "   这一步可能是实现Bestagini的增强过程，这是一种特殊的数据增强技术，用于增加模型的泛化能力。\n",
        "\n",
        "4. **删除不需要的列**：\n",
        "   ```python\n",
        "   cols = ['FORCE_2020_LITHOFACIES_CONFIDENCE', 'SGR', 'DTS', 'RXO', 'ROPA'] #columns to be dropped\n",
        "   df = drop_columns(df, *cols)\n",
        "   ```\n",
        "   这一步删除了不需要的列，以减少模型的复杂性和计算量。\n",
        "\n",
        "5. **标签编码**：\n",
        "   ```python\n",
        "   df['GROUP_encoded'] = df['GROUP'].astype('category')\n",
        "   df['GROUP_encoded'] = df['GROUP_encoded'].cat.codes  \n",
        "   df['FORMATION_encoded'] = df['FORMATION'].astype('category')\n",
        "   df['FORMATION_encoded'] = df['FORMATION_encoded'].cat.codes\n",
        "   df['WELL_encoded'] = df['WELL'].astype('category')\n",
        "   df['WELL_encoded'] = df['WELL_encoded'].cat.codes\n",
        "   ```\n",
        "   这一步对特定的特征进行标签编码，以提高模型性能。\n",
        "\n",
        "6. **分割数据集**：\n",
        "   ```python\n",
        "   df = df.drop(['WELL', 'GROUP', 'FORMATION'], axis=1)\n",
        "   df = df.fillna(-999)\n",
        "   df = process(df)\n",
        "   data = df.copy()\n",
        "   train2 = data[:ntrain].copy()\n",
        "   test2 = data[ntrain:(ntest+ntrain)].copy()\n",
        "   ```\n",
        "   这一步将合并后的数据集分割为训练和测试数据集。\n",
        "\n",
        "7. **数据预处理**：\n",
        "   ```python\n",
        "   train2.drop(['FORCE_2020_LITHOFACIES_LITHOLOGY'], axis=1, inplace=True)\n",
        "   test2.drop(['FORCE_2020_LITHOFACIES_LITHOLOGY'], axis=1, inplace=True)\n",
        "   test2 = test2.reset_index(drop=True)\n",
        "   ```\n",
        "   这一步对数据进行进一步的预处理，包括填充缺失值和其他可能的转换。\n",
        "\n",
        "8. **数据增强**：\n",
        "   ```python\n",
        "   traindata1, padded_rows = augment_features(pd.DataFrame(traindata).values, train_well, train_depth)\n",
        "   testdata1, padded_rows = augment_features(pd.DataFrame(testdata).values, test_well, test_depth)\n",
        "   ```\n",
        "   这一步对训练数据进行增强，以增加模型的泛化能力。\n",
        "\n",
        "9. **返回结果**：\n",
        "   ```python\n",
        "   return traindata1, testdata1, lithology1, lithology_numbers\n",
        "   ```\n",
        "   最后，返回预处理后的训练和测试数据集，以及岩石标签和数字。\n",
        "\n",
        "###  方法输出\n",
        "- `traindata1`：预处理后的训练数据集。\n",
        "- `testdata1`：预处理后的测试数据集。\n",
        "- `lithology1`：岩石标签的序数值。\n",
        "- `lithology_numbers`：岩石标签和数字的映射字典。\n",
        "\n",
        "###  方法注意事项\n",
        "- `drop_columns`和`process`函数在提供的代码片段中没有定义，但它们可能是用于数据预处理的实用函数。\n",
        "- `augment_features`函数也在提供的代码片段中没有定义，但它可能是用于实现数据增强的函数。\n",
        "\n",
        "\n",
        "总的来说，`preprocess`方法的作用是将原始数据集转换为模型可以接受的格式，包括数据清洗、特征工程、标签编码和数据增强等步骤。这些步骤有助于提高模型的性能和泛化能力，使得模型能够更好地适应新的数据。"
      ]
    },
    {
      "cell_type": "markdown",
      "metadata": {},
      "source": [
        "## `fit`方法\n",
        "\n",
        "在`Model`类中，`fit`方法是用于训练模型的关键部分。虽然在提供的代码片段中没有明确定义`fit`方法，但根据类的描述和通常的机器学习模式，我们可以推测`fit`方法的作用。以下是`fit`方法的预期功能："
      ]
    },
    {
      "cell_type": "markdown",
      "metadata": {},
      "source": [
        "\n",
        "\n",
        "### `fit`方法的预期功能\n",
        "- **训练模型**：使用预处理后的训练数据集来训练机器学习模型。这通常涉及到选择一个模型架构，设置训练参数，并使用训练数据集来调整模型的参数。\n",
        "- **交叉验证**：使用交叉验证来评估模型的性能。这通常涉及到将数据集分割成多个折叠，然后在每个折叠上训练模型并评估其性能。\n",
        "- **早停**：在训练过程中使用早停策略来防止过拟合。如果模型在验证集上的性能不再提高，训练将提前停止。\n",
        "- **预测**：在训练过程中或之后，使用模型对测试数据集进行预测。\n",
        "- **评估**：计算模型在测试数据集上的性能指标，如准确率、精确度、召回率和F1分数。\n",
        "- **可视化**：如果`plot`参数为`True`，可能会生成一些可视化结果，如特征重要性图表或训练过程的图表。\n",
        "\n",
        "### `fit`方法的预期实现\n",
        "基于`Model`类的描述和通常的机器学习流程，`fit`方法的实现可能包括以下步骤：\n",
        "\n",
        "1. **预处理数据**：调用`preprocess`方法来准备训练和测试数据集。\n",
        "\n",
        "2. **设置模型**：选择一个模型架构，例如XGBoost的`XGBClassifier`，并设置训练参数。\n",
        "\n",
        "3. **交叉验证**：使用`StratifiedKFold`进行交叉验证，以确保每个折叠都有相同比例的目标类别样本。\n",
        "\n",
        "4. **训练模型**：在每个折叠上训练模型，并使用早停策略来防止过拟合。\n",
        "\n",
        "5. **预测**：在训练过程中或之后，使用模型对测试数据集进行预测。\n",
        "\n",
        "6. **评估**：计算模型在测试数据集上的性能指标。\n",
        "\n",
        "7. **可视化**：如果`plot`参数为`True`，生成可视化结果。\n",
        "\n",
        "###  示例代码\n",
        "尽管`fit`方法在提供的代码片段中没有定义，但根据上述预期功能，我们可以编写一个示例实现：\n",
        "\n",
        "```python\n",
        "def fit(self, plot=True):\n",
        "    # 预处理数据\n",
        "    traindata, testdata, lithology, lithology_numbers = self.preprocess(self.train, self.test)\n",
        "\n",
        "    #  设置模型\n",
        "    model = XGBClassifier(n_estimators=100, max_depth=10, booster='gbtree',\n",
        "                      objective='multi:softprob', learning_rate=0.1, random_state=0,\n",
        "                      subsample=0.9, colsample_bytree=0.9, tree_method='gpu_hist',\n",
        "                      eval_metric='mlogloss', verbose=2020, reg_lambda=1500)\n",
        "\n",
        "    #  交叉验证\n",
        "    kf = StratifiedKFold(n_splits=10, shuffle=True)\n",
        "    for train_index, test_index in kf.split(traindata, lithology):\n",
        "        X_train, X_test = traindata[train_index], traindata[test_index]\n",
        "        Y_train, Y_test = lithology[train_index], lithology[test_index]\n",
        "        # 训练模型\n",
        "        model.fit(X_train, Y_train, early_stopping_rounds=100, eval_set=[(X_test, Y_test)], verbose=100)\n",
        "        # 预测\n",
        "        predictions = model.predict(X_test)\n",
        "        # 评估\n",
        "        if plot:\n",
        "            #  生成可视化结果\n",
        "            plot_evaluation(predictions, Y_test)\n",
        "    #  返回模型和预测结果\n",
        "    return model, predictions\n",
        "```\n",
        "\n",
        "在这个示例中，我们假设`plot_evaluation`是一个用于可视化模型性能的函数，它接受预测结果和真实标签作为参数。实际的`fit`方法可能会有更多的细节和优化，例如模型选择、超参数调整和性能评估等。\n",
        "\n",
        "\n",
        "###  注意事项\n",
        "- `XGBClassifier`是XGBoost库中的一个类，用于创建一个用于分类任务的梯度提升模型。\n",
        "- `StratifiedKFold`是`sklearn.model_selection`模块中的一个类，用于以分层方式将数据分割成训练/测试集。\n",
        "- `early_stopping_rounds`参数用于设置早停策略，当连续`early_stopping_rounds`轮训练后，如果验证集上的性能没有提高，则停止训练。\n",
        "- `eval_set`参数用于在训练过程中评估模型性能。\n",
        "- `verbose`参数用于控制训练过程中的输出级别。\n",
        "\n",
        "\n",
        "总的来说，`fit`方法的目标是训练一个模型，使其能够在测试数据集上做出准确的预测。这通常涉及到数据预处理、模型选择、训练、评估和可能的可视化步骤。"
      ]
    },
    {
      "cell_type": "markdown",
      "metadata": {},
      "source": [
        "## `plot_feat_imp`方法\n",
        "\n",
        "`plot_feat_imp`方法是用于绘制特征重要性图表的辅助方法。以下是`plot_feat_imp`方法的分析："
      ]
    },
    {
      "cell_type": "markdown",
      "metadata": {},
      "source": [
        "分析`plot_feat_imp`方法的实际代码：\n",
        "\n",
        "```python\n",
        "def plot_feat_imp(self, model):\n",
        "    \"\"\"\n",
        "    \n",
        "    \"\"\"\n",
        "    feat_imp = pd.Series(model.feature_importances_).sort_values(ascending=False)\n",
        "    plt.figure(figsize=(12,8))\n",
        "    feat_imp.plot(kind='bar', title='Feature Importances')\n",
        "    plt.ylabel('Feature Importance Score')\n",
        "```\n",
        "\n",
        "###  方法定义\n",
        "`plot_feat_imp`方法是`Model`类的一个成员方法，用于可视化模型中各个特征的重要性。它接受一个模型作为参数，该模型应该是一个已经训练好的机器学习模型，具有`feature_importances_`属性，该属性包含了模型中各个特征的重要性得分。\n",
        "\n",
        "###  方法作用\n",
        "- **计算特征重要性**：从模型中提取特征重要性得分，并将其转换为一个pandas Series对象。\n",
        "- **排序特征重要性**：对特征重要性得分进行降序排序，以便于可视化时可以清楚地看到最重要的特征。\n",
        "- **绘制特征重要性图表**：使用matplotlib库绘制一个条形图，显示各个特征的重要性得分。\n",
        "\n",
        "###  方法步骤\n",
        "1. **提取特征重要性**：\n",
        "   ```python\n",
        "   feat_imp = pd.Series(model.feature_importances_).sort_values(ascending=False)\n",
        "   ```\n",
        "   这一步从模型中提取特征重要性得分，并将其转换为一个pandas Series对象。`model.feature_importances_`是一个数组，包含了模型中各个特征的重要性得分。\n",
        "\n",
        "2. **设置图表大小**：\n",
        "   ```python\n",
        "   plt.figure(figsize=(12,8))\n",
        "   ```\n",
        "   这一步设置了图表的大小，使其更适合显示特征重要性的条形图。\n",
        "\n",
        "3. **绘制条形图**：\n",
        "   ```python\n",
        "   feat_imp.plot(kind='bar', title='Feature Importances')\n",
        "   ```\n",
        "   这一步使用matplotlib库的`plot`方法绘制了一个条形图，显示了各个特征的重要性得分。图表的标题是“Feature Importances”。\n",
        "\n",
        "4. **设置y轴标签**：\n",
        "   ```python\n",
        "   plt.ylabel('Feature Importance Score')\n",
        "   ```\n",
        "   这一步设置了y轴的标签为“Feature Importance Score”，表示特征重要性得分。\n",
        "\n",
        "###  方法输出\n",
        "- **特征重要性图表**：一个条形图，显示了各个特征的重要性得分。\n",
        "\n",
        "###  方法注意事项\n",
        "-  这个方法假设模型已经训练好，并且具有`feature_importances_`属性。这通常适用于树模型（如决策树、随机森林、梯度提升等），这些模型在训练过程中会计算特征的重要性。\n",
        "-  如果模型不支持特征重要性得分，或者没有训练好，这个方法将无法正常工作。\n",
        "-  图表的标题和y轴标签可以根据需要进行修改，以提供更多的上下文信息。\n",
        "\n",
        "\n",
        "###  示例代码\n",
        "这个方法的实现是正确的，它将绘制出一个条形图，显示模型中各个特征的重要性得分。这对于理解模型的决策过程非常有用，因为它可以帮助我们确定哪些特征对模型的预测结果影响最大。\n",
        "\n",
        "\n",
        "###  注意事项\n",
        "-  这个方法没有返回值，它只是绘制了一个图表。如果需要在其他地方使用特征重要性得分，可能需要修改方法以返回这些得分。\n",
        "-  如果模型不支持特征重要性得分，或者没有训练好，这个方法将无法正常工作。\n",
        "-  图表的标题和y轴标签可以根据需要进行修改，以提供更多的上下文信息。\n",
        "\n",
        "\n",
        "总的来说，`plot_feat_imp`方法的目标是提供一个直观的方式来查看模型中各个特征的重要性，这对于模型解释和特征选择非常有用。"
      ]
    },
    {
      "cell_type": "markdown",
      "metadata": {},
      "source": [
        "### 提交训练相关的方法\n",
        "\n",
        "在Model类中，make_submission_file方法的作用是训练模型，进行预测，并创建一个提交文件。这个方法通常用于机器学习竞赛，其中参赛者需要将他们的预测结果提交到一个特定的平台上，以便于评估他们的模型性能。以下是make_submission_file方法的分析："
      ]
    },
    {
      "cell_type": "markdown",
      "metadata": {},
      "source": [
        "## make_submission_file`方法\n",
        "\n",
        "在`Model`类中，`make_submission_file`方法的作用是训练模型，进行预测，并创建一个提交文件。这个方法通常用于机器学习竞赛，其中参赛者需要将他们的预测结果提交到一个特定的平台上，以便于评估他们的模型性能。以下是`make_submission_file`方法的分析："
      ]
    },
    {
      "cell_type": "markdown",
      "metadata": {},
      "source": [
        "\n",
        "\n",
        "###  方法定义\n",
        "```python\n",
        "def make_submission_file(self, filename):\n",
        "    '''\n",
        "    method to train model, make prediction and create submission file\n",
        "    args::\n",
        "    filename: str, the name of the submission file\n",
        "    '''\n",
        "    # ... (省略了方法体)\n",
        "```\n",
        "\n",
        "###  方法作用\n",
        "- **训练模型**：使用预处理后的训练数据集来训练机器学习模型。\n",
        "- **预测**：在训练过程中或之后，使用模型对测试数据集进行预测。\n",
        "- **创建提交文件**：基于模型的预测结果，创建一个提交文件，以便于在竞赛平台上提交结果。\n",
        "\n",
        "###  方法步骤\n",
        "1. **训练模型**：调用`fit`方法来训练模型。这通常涉及到选择一个模型架构，设置训练参数，并使用训练数据集来调整模型的参数。\n",
        "\n",
        "2. **预测**：使用训练后的模型对测试数据集进行预测。\n",
        "\n",
        "3. **创建提交文件**：基于模型的预测结果，创建一个提交文件。这通常涉及到将预测结果格式化为所需的提交格式，并将其保存到文件中。\n",
        "\n",
        "###  方法输出\n",
        "- **提交文件**：一个文件，包含了模型的预测结果，以便于在竞赛平台上提交。\n",
        "\n",
        "###  方法注意事项\n",
        "- `filename`参数是提交文件的名称。这个文件应该包含了模型的预测结果，以便于在竞赛平台上提交。\n",
        "- 具体的预测和提交文件创建过程没有在提供的代码片段中定义，但通常会涉及到模型的预测方法和数据处理步骤。\n",
        "\n",
        "###  示例代码\n",
        "尽管`make_submission_file`方法在提供的代码片段中没有定义，但根据上述预期功能，我们可以编写一个示例实现：\n",
        "\n",
        "```python\n",
        "def make_submission_file(self, filename):\n",
        "    # 训练模型\n",
        "    model, predictions = self.fit()\n",
        "    \n",
        "    #   创建提交文件\n",
        "    submission = pd.DataFrame({\n",
        "        'id': test_data['id'],\n",
        "        'lithology': predictions\n",
        "    })\n",
        "    submission.to_csv(filename, index=False)\n",
        "```\n",
        "\n",
        "在这个示例中，我们假设`fit`方法返回一个模型和预测结果，`test_data`是测试数据集，包含了每个样本的唯一标识符`id`。我们创建一个包含`id`和预测结果的提交文件，并保存到指定的文件名中。\n",
        "\n",
        "\n",
        "###  注意事项\n",
        "-   实际的`make_submission_file`方法可能会有更多的细节和优化，例如特征重要性的可视化、模型性能的评估等。\n",
        "-   提交文件的格式可能会根据竞赛平台的要求有所不同，需要根据具体情况进行调整。\n",
        "\n",
        "\n",
        "总的来说，`make_submission_file`方法的目标是训练一个模型，使用模型对测试数据集进行预测，并创建一个提交文件，以便于在竞赛平台上提交结果。这通常涉及到数据预处理、模型训练、预测和提交文件创建等步骤。"
      ]
    },
    {
      "cell_type": "markdown",
      "metadata": {},
      "source": [
        "## Model"
      ]
    },
    {
      "cell_type": "code",
      "execution_count": 13,
      "metadata": {},
      "outputs": [],
      "source": [
        "class Model():\n",
        "  \n",
        "    '''\n",
        "    \n",
        "    lithology 岩石分类 prediction 预测\n",
        "    该类用于基于测井数据构建岩石分类的机器学习模型。类方法包括数据预处理、模型训练、预测和生成提交文件等功能。\n",
        "\n",
        "    属性:\n",
        "      train (DataFrame): 包含特征和目标的训练数据集。\n",
        "      test (DataFrame): 仅包含特征的测试数据集。\n",
        "\n",
        "    方法:\n",
        "      preprocess(train, test): 准备训练和预测数据集。\n",
        "      fit(plot=True): 训练模型并在测试数据集上进行预测。\n",
        "      plot_feat_imp(model): 绘制特征重要性得分。\n",
        "      make_submission_file(filename): 生成包含预测结果的提交文件。\n",
        "    \n",
        "    '''\n",
        "    \n",
        "    def __init__(self, train, test):\n",
        "\n",
        "        '''\n",
        "            接受训练和测试数据集作为参数\n",
        "        '''\n",
        "        \n",
        "        self.train = train\n",
        "        self.test = test\n",
        "        \n",
        "    def __call__(self, plot = True):\n",
        "        \n",
        "        '''\n",
        "            __call__方法用于调用fit方法\n",
        "        \n",
        "        允许类的实例像函数一样被调用。\n",
        "        \n",
        "        传递plot参数。这意味着当你创建了一个Model类的实例并调用它时，它将执行模型的训练过程。\n",
        "        \n",
        "        当你调用Model类的实例时，例如：\n",
        "        \n",
        "          model_instance = Model(train_data, test_data)\n",
        "          model_instance(plot=True)\n",
        "          \n",
        "        调用fit方法，并传递plot=True参数。这意味着模型将被训练，并且如果plot参数为True，则可能会绘制出一些训练过程的图表或结果。这种设计模式通常用于简化模型训练的调用过程，使得用户可以直接调用模型实例来开始训练，而不需要显式地调用fit方法。\n",
        "        \n",
        "\n",
        "        '''\n",
        "        \n",
        "        return self.fit(plot)\n",
        "\n",
        "    def preprocess(self, train, test):\n",
        "\n",
        "        '''\n",
        "         准备数据集datasets以进行训练和预测\n",
        "        \n",
        "        属性：\n",
        "          接受训练和测试数据集dataframes作为参数\n",
        "        \n",
        "        方法：\n",
        "          返回准备好的训练和测试数据集 prepared 以及 lithology labels 岩石标签和 numbers 数字，这对于准备提交文件是必要的\n",
        "        '''\n",
        "\n",
        "        # concatenating 连接 train and test 训练和测试数据集以进行统一处理 uniform processing \n",
        "        # 合并训练和测试数据集，以便于统一处理\n",
        "        ntrain = train.shape[0]\n",
        "        ntest = test.shape[0]\n",
        "        target = train.FORCE_2020_LITHOFACIES_LITHOLOGY.copy()\n",
        "        df = pd.concat((train, test)).reset_index(drop=True)\n",
        "\n",
        "        # mapping 映射 lithology 岩石标签 to ordinal values 有序值 for better modelling 更好的建模\n",
        "        # 将岩石标签映射到序数值，以便于模型处理。\n",
        "\n",
        "        lithology = train['FORCE_2020_LITHOFACIES_LITHOLOGY']\n",
        " \n",
        "        lithology_numbers = {30000: 0,\n",
        "                        65030: 1,\n",
        "                        65000: 2,\n",
        "                        80000: 3,\n",
        "                        74000: 4,\n",
        "                        70000: 5,\n",
        "                        70032: 6,\n",
        "                        88000: 7,\n",
        "                        86000: 8,\n",
        "                        99000: 9,\n",
        "                        90000: 10,\n",
        "                        93000: 11}\n",
        "        \n",
        "        lithology1 = lithology.map(lithology_numbers)\n",
        "\n",
        "        # implementing 实现 Bestagini's 的增强程序 augmentation procedure\n",
        "        # 实现Bestagini的增强过程，这可能是一种特殊的数据增强技术。\n",
        "\n",
        "        train_well = train.WELL.values\n",
        "        train_depth = train.DEPTH_MD.values\n",
        "        \n",
        "        test_well = test.WELL.values\n",
        "        test_depth = test.DEPTH_MD.values  \n",
        "        '''待续...\n",
        "        # 进行了这样的操作是为了方便，因为数据集将会经历一些变换 transformations\n",
        "        # 将使得执行 augmentation technique 增强技术变得不易\n",
        "        # '''\n",
        "\n",
        "        \n",
        "        # 删除不需要的列\n",
        "        print(f'shape of concatenated dataframe before dropping columns {df.shape}')\n",
        "\n",
        "        cols = ['FORCE_2020_LITHOFACIES_CONFIDENCE', 'SGR', 'DTS', 'RXO', 'ROPA'] #columns to be dropped\n",
        "        df = drop_columns(df, *cols)\n",
        "        print(f'shape of dataframe after dropping columns {df.shape}')\n",
        "        print(f'{cols} were dropped')\n",
        "\n",
        "        # Label encoding the GROUP, FORMATION and WELLS features as these improved the performance of the models on validations\n",
        "        # 对特定的特征进行标签编码，以提高模型性能。\n",
        "        df['GROUP_encoded'] = df['GROUP'].astype('category')\n",
        "        df['GROUP_encoded'] = df['GROUP_encoded'].cat.codes \n",
        "        df['FORMATION_encoded'] = df['FORMATION'].astype('category')\n",
        "        df['FORMATION_encoded'] = df['FORMATION_encoded'].cat.codes\n",
        "        df['WELL_encoded'] = df['WELL'].astype('category')\n",
        "        df['WELL_encoded'] = df['WELL_encoded'].cat.codes\n",
        "        print(f'shape of dataframe after label encoding columns {df.shape}')\n",
        "\n",
        "\n",
        "        # FURTHER PREPRATION TO SPLIT DATAFRAME INTO TRAIN AND TEST DATASETS AFTER PREPRATION\n",
        "        # 进一步准备，以便在 concatenated dataframe 准备后将数据框Splitting分割为train test datasets 训练和测试数据集\n",
        "        print(f'Splitting concatenated dataframe into training and test datasets...')\n",
        "        df = df.drop(['WELL', 'GROUP', 'FORMATION'], axis=1)\n",
        "        print(df.shape)\n",
        "        \n",
        "        df = df.fillna(-999)\n",
        "        df = process(df)\n",
        "        data = df.copy()\n",
        "        \n",
        "        train2 = data[:ntrain].copy()\n",
        "        train2.drop(['FORCE_2020_LITHOFACIES_LITHOLOGY'], axis=1, inplace=True)\n",
        "        \n",
        "        test2 = data[ntrain:(ntest+ntrain)].copy()\n",
        "        test2.drop(['FORCE_2020_LITHOFACIES_LITHOLOGY'], axis=1, inplace=True)\n",
        "        test2 = test2.reset_index(drop=True)\n",
        "\n",
        "        # 将合并后的数据集分割为训练和测试数据集。\n",
        "        traindata = train2\n",
        "        testdata = test2\n",
        "\n",
        "        print(f'Shape of train and test datasets before augmentation {traindata.shape, testdata.shape}')\n",
        "        # 对训练数据进行增强，以增加模型的泛化能力。\n",
        "        traindata1, padded_rows = augment_features(pd.DataFrame(traindata).values, train_well, train_depth)\n",
        "        testdata1, padded_rows = augment_features(pd.DataFrame(testdata).values, test_well, test_depth)\n",
        "        \n",
        "        print(f'Shape of train and test datasets after augmentation {traindata1.shape, testdata1.shape}')\n",
        "        # 返回预处理后的训练和测试数据集，以及岩石标签和数字。\n",
        "        return traindata1, testdata1, lithology1, lithology_numbers\n",
        "\n",
        "    def fit(self, plot):\n",
        "\n",
        "      '''\n",
        "      方法用于 train model 训练模型并进行预测 predictions\n",
        "      \n",
        "      返回 \n",
        "        测试预测、训练模型和用于生成提交文件的岩石数字。\n",
        "        test predictions、trained model、lithology numbers\n",
        "      '''\n",
        "      # 1. 预处理数据：调用preprocess方法来准备训练和测试数据集。\n",
        "      traindata1, testdata1, lithology1, lithology_numbers = self.preprocess(self.train, self.test)\n",
        "      \n",
        "      \n",
        "      # 2. 交叉验证：使用StratifiedKFold进行交叉验证，以确保每个折叠都有相同比例的目标类别样本。\n",
        "      # 使用 10-fold stratified cross-validation 10折分层交叉验证技术，并将shuffle参数设置为true，因为这样可以更好地 improved 提高 validation 验证性能\n",
        "      split = 10\n",
        "      kf = StratifiedKFold(n_splits=split, shuffle=True)\n",
        "\n",
        "      open_test = np.zeros((len(testdata1), 12))\n",
        "      \n",
        "      # 3. 设置模型：选择一个模型架构，例如XGBoost的XGBClassifier，并设置训练参数。\n",
        "      #100 n-estimators and 10 max-depth\n",
        "      # 100个n-estimators和10个max-depth ，估计器的数量，树的数量。10个树的最大深度。\n",
        "      model = XGBClassifier(n_estimators=100, max_depth=10, booster='gbtree',\n",
        "                            objective='multi:softprob', learning_rate=0.1, random_state=0,\n",
        "                            subsample=0.9, colsample_bytree=0.9, tree_method='hist', device=\"cuda\",\n",
        "                            eval_metric='mlogloss', verbose=2020, reg_lambda=1500)\n",
        "      \n",
        "      for i, (train_index, test_index) in enumerate(kf.split(pd.DataFrame(traindata1), pd.DataFrame(lithology1)), start=1):\n",
        "        X_train, X_test = pd.DataFrame(traindata1).iloc[train_index], pd.DataFrame(traindata1).iloc[test_index]\n",
        "        Y_train, Y_test = pd.DataFrame(lithology1).iloc[train_index], pd.DataFrame(lithology1).iloc[test_index]\n",
        "        # 4.训练模型：在每个折叠上训练模型，并使用早停策略来防止过拟合。\n",
        "        model.fit(X_train, Y_train, early_stopping_rounds=100, eval_set=[(X_test, Y_test)], verbose=100)\n",
        "        # 5. 预测,在训练过程中或之后，使用模型对测试数据集进行预测。\n",
        "        prediction = model.predict(X_test)\n",
        "        print(show_evaluation(prediction, Y_test))\n",
        "\n",
        "        print(f'-----------------------FOLD {i}---------------------')\n",
        "        open_test += model.predict_proba(pd.DataFrame(testdata1))\n",
        "      # 评估计算模型在测试数据集上的性能指标。\n",
        "      open_test= pd.DataFrame(open_test/split)\n",
        "    \n",
        "      open_test = np.array(pd.DataFrame(open_test).idxmax(axis=1))\n",
        "\n",
        "      print('---------------CROSS VALIDATION COMPLETE')\n",
        "      print('----------------TEST EVALUATION------------------')\n",
        "\n",
        "      # 评估，可视化评估\n",
        "      if plot: self.plot_feat_imp(model)\n",
        "      return open_test, model, lithology_numbers\n",
        "                  \n",
        "    def plot_feat_imp(self, model):\n",
        "      \"\"\"\n",
        "        用于可视化模型中各个特征的重要性。它接受一个模型作为参数，该模型应该是一个已经训练好的机器学习模型，具有feature_importances_属性，该属性包含了模型中各个特征的重要性得分。\n",
        "        方法作用\n",
        "          计算特征重要性：从模型中提取特征重要性得分，并将其转换为一个pandas Series对象。\n",
        "          排序特征重要性：对特征重要性得分进行降序排序，以便于可视化时可以清楚地看到最重要的特征。\n",
        "          绘制特征重要性图表：使用matplotlib库绘制一个条形图，显示各个特征的重要性得分。\n",
        "        \n",
        "      \"\"\"\n",
        "      feat_imp = pd.Series(model.feature_importances_).sort_values(ascending=False)\n",
        "      plt.figure(figsize=(12,8))\n",
        "      feat_imp.plot(kind='bar', title='Feature Importances')\n",
        "      plt.ylabel('Feature Importance Score')\n",
        "\n",
        "    def make_submission_file(self, filename):\n",
        "      \"\"\"\n",
        "      训练模型，进行预测，并创建一个提交文件。\n",
        "\n",
        "      这个方法通常用于机器学习竞赛，其中参赛者需要将他们的预测结果提交到一个特定的平台上，以便于评估他们的模型性能。\n",
        "      \"\"\"\n",
        "\n",
        "      self.filename = filename\n",
        "      # 1.训练模型：调用fit方法来训练模型。这通常涉及到选择一个模型架构，设置训练参数，并使用训练数据集来调整模型的参数。\n",
        "      prediction, model, lithology_numbers = self.fit(plot=False)\n",
        "\n",
        "      path = PWD\n",
        "\n",
        "      test = pd.read_csv(f'{PWD}test.csv', sep=';')\n",
        "\n",
        "      category_to_lithology = {y:x for x,y in lithology_numbers.items()}\n",
        "      # 2. 预测：使用训练后的模型对测试数据集进行预测。\n",
        "      test_prediction_for_submission = np.vectorize(category_to_lithology.get)(prediction)\n",
        "      # 3. 创建提交文件：基于模型的预测结果，创建一个提交文件。这通常涉及到将预测结果格式化为所需的提交格式，并将其保存到文件中。\n",
        "      np.savetxt(path+filename+'.csv', test_prediction_for_submission,header='lithology', fmt='%i')"
      ]
    },
    {
      "cell_type": "markdown",
      "metadata": {},
      "source": [
        "### 训练模型"
      ]
    },
    {
      "cell_type": "code",
      "execution_count": 7,
      "metadata": {
        "colab": {
          "base_uri": "https://localhost:8080/",
          "height": 1000
        },
        "id": "t3dOrluJWtPM",
        "outputId": "57b1421a-85db-41e2-85d8-4cfcbeec915c"
      },
      "outputs": [
        {
          "name": "stdout",
          "output_type": "stream",
          "text": [
            "shape of concatenated dataframe before dropping columns (1307297, 29)\n",
            "shape of dataframe after dropping columns (1307297, 24)\n",
            "['FORCE_2020_LITHOFACIES_CONFIDENCE', 'SGR', 'DTS', 'RXO', 'ROPA'] were dropped\n",
            "shape of dataframe after label encoding columns (1307297, 27)\n",
            "Splitting concatenated dataframe into training and test datasets...\n",
            "(1307297, 24)\n",
            "Shape of train and test datasets before augmentation ((1170511, 23), (136786, 23))\n",
            "Shape of train and test datasets after augmentation ((1170511, 92), (136786, 92))\n"
          ]
        },
        {
          "name": "stderr",
          "output_type": "stream",
          "text": [
            "/home/lumisong/文档/Force-2020-Machine-Learning-competition/force_Olawalel/lib/python3.11/site-packages/xgboost/sklearn.py:889: UserWarning: `early_stopping_rounds` in `fit` method is deprecated for better compatibility with scikit-learn, use `early_stopping_rounds` in constructor or`set_params` instead.\n",
            "  warnings.warn(\n",
            "/home/lumisong/文档/Force-2020-Machine-Learning-competition/force_Olawalel/lib/python3.11/site-packages/xgboost/core.py:160: UserWarning: [23:39:10] WARNING: /home/conda/feedstock_root/build_artifacts/xgboost-split_1705649946806/work/src/learner.cc:742: \n",
            "Parameters: { \"verbose\" } are not used.\n",
            "\n",
            "  warnings.warn(smsg, UserWarning)\n"
          ]
        },
        {
          "name": "stdout",
          "output_type": "stream",
          "text": [
            "[0]\tvalidation_0-mlogloss:2.16161\n",
            "[99]\tvalidation_0-mlogloss:0.31555\n",
            "Default score: [-0.2734351]\n",
            "Accuracy is: 0.8959607695724977\n",
            "F1 is: 0.8998633056497257\n",
            "None\n",
            "-----------------------FOLD 1---------------------\n"
          ]
        },
        {
          "name": "stderr",
          "output_type": "stream",
          "text": [
            "/home/lumisong/文档/Force-2020-Machine-Learning-competition/force_Olawalel/lib/python3.11/site-packages/xgboost/sklearn.py:889: UserWarning: `early_stopping_rounds` in `fit` method is deprecated for better compatibility with scikit-learn, use `early_stopping_rounds` in constructor or`set_params` instead.\n",
            "  warnings.warn(\n",
            "/home/lumisong/文档/Force-2020-Machine-Learning-competition/force_Olawalel/lib/python3.11/site-packages/xgboost/core.py:160: UserWarning: [23:41:15] WARNING: /home/conda/feedstock_root/build_artifacts/xgboost-split_1705649946806/work/src/learner.cc:742: \n",
            "Parameters: { \"verbose\" } are not used.\n",
            "\n",
            "  warnings.warn(smsg, UserWarning)\n"
          ]
        },
        {
          "name": "stdout",
          "output_type": "stream",
          "text": [
            "[0]\tvalidation_0-mlogloss:2.16228\n",
            "[99]\tvalidation_0-mlogloss:0.32013\n",
            "Default score: [-0.27859758]\n",
            "Accuracy is: 0.8939265790125672\n",
            "F1 is: 0.8979162764456362\n",
            "None\n",
            "-----------------------FOLD 2---------------------\n"
          ]
        },
        {
          "name": "stderr",
          "output_type": "stream",
          "text": [
            "/home/lumisong/文档/Force-2020-Machine-Learning-competition/force_Olawalel/lib/python3.11/site-packages/xgboost/sklearn.py:889: UserWarning: `early_stopping_rounds` in `fit` method is deprecated for better compatibility with scikit-learn, use `early_stopping_rounds` in constructor or`set_params` instead.\n",
            "  warnings.warn(\n",
            "/home/lumisong/文档/Force-2020-Machine-Learning-competition/force_Olawalel/lib/python3.11/site-packages/xgboost/core.py:160: UserWarning: [23:43:31] WARNING: /home/conda/feedstock_root/build_artifacts/xgboost-split_1705649946806/work/src/learner.cc:742: \n",
            "Parameters: { \"verbose\" } are not used.\n",
            "\n",
            "  warnings.warn(smsg, UserWarning)\n"
          ]
        },
        {
          "name": "stdout",
          "output_type": "stream",
          "text": [
            "[0]\tvalidation_0-mlogloss:2.16226\n",
            "[99]\tvalidation_0-mlogloss:0.31831\n",
            "Default score: [-0.27697222]\n",
            "Accuracy is: 0.8946698447685197\n",
            "F1 is: 0.8986476450027753\n",
            "None\n",
            "-----------------------FOLD 3---------------------\n"
          ]
        },
        {
          "name": "stderr",
          "output_type": "stream",
          "text": [
            "/home/lumisong/文档/Force-2020-Machine-Learning-competition/force_Olawalel/lib/python3.11/site-packages/xgboost/sklearn.py:889: UserWarning: `early_stopping_rounds` in `fit` method is deprecated for better compatibility with scikit-learn, use `early_stopping_rounds` in constructor or`set_params` instead.\n",
            "  warnings.warn(\n",
            "/home/lumisong/文档/Force-2020-Machine-Learning-competition/force_Olawalel/lib/python3.11/site-packages/xgboost/core.py:160: UserWarning: [23:45:38] WARNING: /home/conda/feedstock_root/build_artifacts/xgboost-split_1705649946806/work/src/learner.cc:742: \n",
            "Parameters: { \"verbose\" } are not used.\n",
            "\n",
            "  warnings.warn(smsg, UserWarning)\n"
          ]
        },
        {
          "name": "stdout",
          "output_type": "stream",
          "text": [
            "[0]\tvalidation_0-mlogloss:2.16197\n",
            "[99]\tvalidation_0-mlogloss:0.31876\n",
            "Default score: [-0.27725842]\n",
            "Accuracy is: 0.8953874806708187\n",
            "F1 is: 0.8992553484265308\n",
            "None\n",
            "-----------------------FOLD 4---------------------\n"
          ]
        },
        {
          "name": "stderr",
          "output_type": "stream",
          "text": [
            "/home/lumisong/文档/Force-2020-Machine-Learning-competition/force_Olawalel/lib/python3.11/site-packages/xgboost/sklearn.py:889: UserWarning: `early_stopping_rounds` in `fit` method is deprecated for better compatibility with scikit-learn, use `early_stopping_rounds` in constructor or`set_params` instead.\n",
            "  warnings.warn(\n",
            "/home/lumisong/文档/Force-2020-Machine-Learning-competition/force_Olawalel/lib/python3.11/site-packages/xgboost/core.py:160: UserWarning: [23:47:47] WARNING: /home/conda/feedstock_root/build_artifacts/xgboost-split_1705649946806/work/src/learner.cc:742: \n",
            "Parameters: { \"verbose\" } are not used.\n",
            "\n",
            "  warnings.warn(smsg, UserWarning)\n"
          ]
        },
        {
          "name": "stdout",
          "output_type": "stream",
          "text": [
            "[0]\tvalidation_0-mlogloss:2.16240\n",
            "[99]\tvalidation_0-mlogloss:0.32023\n",
            "Default score: [-0.28141045]\n",
            "Accuracy is: 0.8927817788827093\n",
            "F1 is: 0.8966632445930015\n",
            "None\n",
            "-----------------------FOLD 5---------------------\n"
          ]
        },
        {
          "name": "stderr",
          "output_type": "stream",
          "text": [
            "/home/lumisong/文档/Force-2020-Machine-Learning-competition/force_Olawalel/lib/python3.11/site-packages/xgboost/sklearn.py:889: UserWarning: `early_stopping_rounds` in `fit` method is deprecated for better compatibility with scikit-learn, use `early_stopping_rounds` in constructor or`set_params` instead.\n",
            "  warnings.warn(\n",
            "/home/lumisong/文档/Force-2020-Machine-Learning-competition/force_Olawalel/lib/python3.11/site-packages/xgboost/core.py:160: UserWarning: [23:49:56] WARNING: /home/conda/feedstock_root/build_artifacts/xgboost-split_1705649946806/work/src/learner.cc:742: \n",
            "Parameters: { \"verbose\" } are not used.\n",
            "\n",
            "  warnings.warn(smsg, UserWarning)\n"
          ]
        },
        {
          "name": "stdout",
          "output_type": "stream",
          "text": [
            "[0]\tvalidation_0-mlogloss:2.16178\n",
            "[99]\tvalidation_0-mlogloss:0.31602\n",
            "Default score: [-0.2754686]\n",
            "Accuracy is: 0.8954729135163305\n",
            "F1 is: 0.8991672347838578\n",
            "None\n",
            "-----------------------FOLD 6---------------------\n"
          ]
        },
        {
          "name": "stderr",
          "output_type": "stream",
          "text": [
            "/home/lumisong/文档/Force-2020-Machine-Learning-competition/force_Olawalel/lib/python3.11/site-packages/xgboost/sklearn.py:889: UserWarning: `early_stopping_rounds` in `fit` method is deprecated for better compatibility with scikit-learn, use `early_stopping_rounds` in constructor or`set_params` instead.\n",
            "  warnings.warn(\n",
            "/home/lumisong/文档/Force-2020-Machine-Learning-competition/force_Olawalel/lib/python3.11/site-packages/xgboost/core.py:160: UserWarning: [23:51:53] WARNING: /home/conda/feedstock_root/build_artifacts/xgboost-split_1705649946806/work/src/learner.cc:742: \n",
            "Parameters: { \"verbose\" } are not used.\n",
            "\n",
            "  warnings.warn(smsg, UserWarning)\n"
          ]
        },
        {
          "name": "stdout",
          "output_type": "stream",
          "text": [
            "[0]\tvalidation_0-mlogloss:2.16244\n",
            "[99]\tvalidation_0-mlogloss:0.31884\n",
            "Default score: [-0.2783872]\n",
            "Accuracy is: 0.8946698447685197\n",
            "F1 is: 0.8986555155681986\n",
            "None\n",
            "-----------------------FOLD 7---------------------\n"
          ]
        },
        {
          "name": "stderr",
          "output_type": "stream",
          "text": [
            "/home/lumisong/文档/Force-2020-Machine-Learning-competition/force_Olawalel/lib/python3.11/site-packages/xgboost/sklearn.py:889: UserWarning: `early_stopping_rounds` in `fit` method is deprecated for better compatibility with scikit-learn, use `early_stopping_rounds` in constructor or`set_params` instead.\n",
            "  warnings.warn(\n",
            "/home/lumisong/文档/Force-2020-Machine-Learning-competition/force_Olawalel/lib/python3.11/site-packages/xgboost/core.py:160: UserWarning: [23:53:50] WARNING: /home/conda/feedstock_root/build_artifacts/xgboost-split_1705649946806/work/src/learner.cc:742: \n",
            "Parameters: { \"verbose\" } are not used.\n",
            "\n",
            "  warnings.warn(smsg, UserWarning)\n"
          ]
        },
        {
          "name": "stdout",
          "output_type": "stream",
          "text": [
            "[0]\tvalidation_0-mlogloss:2.16129\n",
            "[99]\tvalidation_0-mlogloss:0.31572\n",
            "Default score: [-0.27471893]\n",
            "Accuracy is: 0.895404567239921\n",
            "F1 is: 0.8993429815776409\n",
            "None\n",
            "-----------------------FOLD 8---------------------\n"
          ]
        },
        {
          "name": "stderr",
          "output_type": "stream",
          "text": [
            "/home/lumisong/文档/Force-2020-Machine-Learning-competition/force_Olawalel/lib/python3.11/site-packages/xgboost/sklearn.py:889: UserWarning: `early_stopping_rounds` in `fit` method is deprecated for better compatibility with scikit-learn, use `early_stopping_rounds` in constructor or`set_params` instead.\n",
            "  warnings.warn(\n",
            "/home/lumisong/文档/Force-2020-Machine-Learning-competition/force_Olawalel/lib/python3.11/site-packages/xgboost/core.py:160: UserWarning: [23:55:49] WARNING: /home/conda/feedstock_root/build_artifacts/xgboost-split_1705649946806/work/src/learner.cc:742: \n",
            "Parameters: { \"verbose\" } are not used.\n",
            "\n",
            "  warnings.warn(smsg, UserWarning)\n"
          ]
        },
        {
          "name": "stdout",
          "output_type": "stream",
          "text": [
            "[0]\tvalidation_0-mlogloss:2.16189\n",
            "[99]\tvalidation_0-mlogloss:0.31997\n",
            "Default score: [-0.2794487]\n",
            "Accuracy is: 0.8935592177768665\n",
            "F1 is: 0.8974324069828036\n",
            "None\n",
            "-----------------------FOLD 9---------------------\n"
          ]
        },
        {
          "name": "stderr",
          "output_type": "stream",
          "text": [
            "/home/lumisong/文档/Force-2020-Machine-Learning-competition/force_Olawalel/lib/python3.11/site-packages/xgboost/sklearn.py:889: UserWarning: `early_stopping_rounds` in `fit` method is deprecated for better compatibility with scikit-learn, use `early_stopping_rounds` in constructor or`set_params` instead.\n",
            "  warnings.warn(\n",
            "/home/lumisong/文档/Force-2020-Machine-Learning-competition/force_Olawalel/lib/python3.11/site-packages/xgboost/core.py:160: UserWarning: [23:57:47] WARNING: /home/conda/feedstock_root/build_artifacts/xgboost-split_1705649946806/work/src/learner.cc:742: \n",
            "Parameters: { \"verbose\" } are not used.\n",
            "\n",
            "  warnings.warn(smsg, UserWarning)\n"
          ]
        },
        {
          "name": "stdout",
          "output_type": "stream",
          "text": [
            "[0]\tvalidation_0-mlogloss:2.16228\n",
            "[99]\tvalidation_0-mlogloss:0.31774\n",
            "Default score: [-0.27643292]\n",
            "Accuracy is: 0.8945587820693544\n",
            "F1 is: 0.8986522756793602\n",
            "None\n",
            "-----------------------FOLD 10---------------------\n",
            "---------------CROSS VALIDATION COMPLETE\n",
            "----------------TEST EVALUATION------------------\n"
          ]
        },
        {
          "data": {
            "image/png": "[encoded data removed]",
            "text/plain": [
              "<Figure size 1200x800 with 1 Axes>"
            ]
          },
          "metadata": {},
          "output_type": "display_data"
        }
      ],
      "source": [
        "#To train model and make prediction\n",
        "\n",
        "func_= Model(train, test)\n",
        "prediction, model, redundant = func_()"
      ]
    },
    {
      "cell_type": "code",
      "execution_count": 8,
      "metadata": {
        "colab": {
          "base_uri": "https://localhost:8080/",
          "height": 34
        },
        "id": "sueoRdaykxzp",
        "outputId": "c62c299c-d239-4ea5-cf41-0dc53ea27b11"
      },
      "outputs": [
        {
          "data": {
            "text/plain": [
              "array([2, 2, 2, ..., 0, 1, 1])"
            ]
          },
          "execution_count": 8,
          "metadata": {},
          "output_type": "execute_result"
        }
      ],
      "source": [
        "prediction"
      ]
    },
    {
      "cell_type": "code",
      "execution_count": 9,
      "metadata": {
        "id": "Fd45KJLVk3Ka"
      },
      "outputs": [],
      "source": [
        "#initializing the model class\n",
        "\n",
        "func_= Model(train, test)"
      ]
    },
    {
      "cell_type": "code",
      "execution_count": null,
      "metadata": {
        "colab": {
          "base_uri": "https://localhost:8080/",
          "height": 1000
        },
        "id": "zRywwBE3mCb7",
        "outputId": "b03891b3-6800-465d-e0c0-8e75a2774382"
      },
      "outputs": [],
      "source": [
        "#using the make_submission_file method to make predicction and create a submission file\n",
        "\n",
        "func_.make_submission_file(filename='testing6')"
      ]
    },
    {
      "cell_type": "markdown",
      "metadata": {},
      "source": [
        "训练过程：\n",
        "\n",
        "1. 时间上，10分钟左右；\n",
        "2. CPU占用率为100%；\n",
        "3. 内存占用率：应该在10G左右；\n",
        "4. 使用了XGBoost 的GPU，但是看GPU相关监控，GPU占用率为11%,为系统的占用率，没有使用GPU。（基本感觉没有使用GPU）"
      ]
    },
    {
      "cell_type": "code",
      "execution_count": null,
      "metadata": {
        "colab": {
          "base_uri": "https://localhost:8080/",
          "height": 173
        },
        "id": "SmxsGsBWmtAp",
        "outputId": "66e36d27-2645-4d7c-c81f-01116a353e31"
      },
      "outputs": [
        {
          "data": {
            "text/plain": [
              "65000    97125\n",
              "30000    24010\n",
              "65030     9027\n",
              "70000     4754\n",
              "99000      988\n",
              "80000      456\n",
              "90000      401\n",
              "86000       25\n",
              "Name: # lithology, dtype: int64"
            ]
          },
          "execution_count": 13,
          "metadata": {
            "tags": []
          },
          "output_type": "execute_result"
        }
      ],
      "source": [
        "a = pd.read_csv('/content/drive/My Drive/FORCE-Lithology-Prediction/testing4.csv')\n",
        " \n",
        "a['# lithology'].value_counts()"
      ]
    },
    {
      "cell_type": "code",
      "execution_count": 10,
      "metadata": {
        "colab": {
          "base_uri": "https://localhost:8080/",
          "height": 190
        },
        "id": "-4DZpnEReqb9",
        "outputId": "9740c84a-4d27-4a53-c731-8827f81425c0"
      },
      "outputs": [
        {
          "data": {
            "text/plain": [
              "65000    94447\n",
              "30000    24831\n",
              "65030    10489\n",
              "70000     5817\n",
              "80000      610\n",
              "99000      511\n",
              "90000       63\n",
              "86000       16\n",
              "88000        2\n",
              "Name: # lithology, dtype: int64"
            ]
          },
          "execution_count": 10,
          "metadata": {
            "tags": []
          },
          "output_type": "execute_result"
        }
      ],
      "source": [
        "a = pd.read_csv('/content/drive/My Drive/FORCE-Lithology-Prediction/testing6.csv')\n",
        " \n",
        "a['# lithology'].value_counts()"
      ]
    }
  ],
  "metadata": {
    "accelerator": "GPU",
    "colab": {
      "collapsed_sections": [],
      "name": "FORCE_Submission_File.ipynb",
      "provenance": []
    },
    "kernelspec": {
      "display_name": "Python 3",
      "name": "python3"
    },
    "language_info": {
      "codemirror_mode": {
        "name": "ipython",
        "version": 3
      },
      "file_extension": ".py",
      "mimetype": "text/x-python",
      "name": "python",
      "nbconvert_exporter": "python",
      "pygments_lexer": "ipython3",
      "version": "3.11.8"
    }
  },
  "nbformat": 4,
  "nbformat_minor": 0
}
